{
 "cells": [
  {
   "cell_type": "markdown",
   "metadata": {},
   "source": [
    "# Optimisasi Fungsi-fungsi Satu Variabel"
   ]
  },
  {
   "cell_type": "markdown",
   "metadata": {},
   "source": [
    "Optimisasi selalu berhubungan dengan pencarian titik dan nilai maksimum atau minimum dari suatu fungsi matematika.\n",
    "Ada dua jenis dari titik maksimum/minimum, yaitu:\n",
    "- global,\n",
    "- lokal.\n",
    "\n",
    "Titik maksimum/minimum **global** berarti titik tersebut merupakan titik paling maksimum dan/atau minimum dari semua titik yang ada (bisa dibilang, titik-titik tersebut selalu maksimum/minimum di dalam interval $\\displaystyle (-\\infty, \\infty)$ ).\n",
    "\n",
    "Sedangkan untuk titik maksimum/minimum **lokal** berarti titik tersebut merupakan titik maksimum dan/atau minimum di dalam sebuah interval $[x_1, x_2]$.\n",
    "\n",
    "Berikut ilustrasi dari titik maksimum dan minimum global maupun lokal dari suatu fungsi:\n",
    "\n",
    "<a href=\"https://imgur.com/mnkvO7I\"><img src=\"https://i.imgur.com/mnkvO7I.png\" title=\"source: imgur.com\" /></a>\n",
    "<center> *Sumber: Numerical Methods for Engineers 6th Edition, 2010* </center>\n",
    "\n",
    "Di dalam metode numerik terdapat beberapa metode untuk mencari titik dan nilai maksimum/minimum dari suatu fungsi, yaitu:\n",
    "\n",
    "1. golden-section search\n",
    "2. parabolic interpolation\n",
    "3. newton's method\n",
    "\n",
    "*Perlu diperhatikan, metode-metode di atas memiliki tujuan untuk mencari nilai maksimum/minimum **lokal** *"
   ]
  },
  {
   "cell_type": "markdown",
   "metadata": {},
   "source": [
    "## 1. Golden-Section Search\n",
    "\n",
    "Pada dasarnya, **Golden-Section Search** adalah metode untuk mencari nilai maksimum/minimum dari suatu fungsi.\n",
    "\n",
    "Singkatnya, tujuan dari metode ini adalah untuk menemukan $x$ yang memenuhi:\n",
    "$$\n",
    "    \\min_{x} \\, f(x)\n",
    "$$\n",
    "di mana $f$ adalah fungsi sembarang dan $x$ adalah domain dari fungsi $f$."
   ]
  },
  {
   "cell_type": "markdown",
   "metadata": {},
   "source": [
    "Hal yang diperlukan agar algoritma ini berjalan antara lain:\n",
    "\n",
    "- data$\\quad \\quad \\quad \\quad \\quad \\quad \\,\\,\\,$:  $f(x)$,\n",
    "- titik atas dan titik bawah: $x_L$ dan $x_U$; di mana $x_L$ dan $x_U$ dapat ditentukan secara bebas dan harus berbeda,\n",
    "- R (Golden Ratio)$\\quad \\quad$: $\\displaystyle \\frac{\\sqrt{5}-1}{2}$.\n",
    "\n",
    "*Catatan:* $x_U$ adalah titik atas dan $x_L$ adalah titik bawah."
   ]
  },
  {
   "cell_type": "markdown",
   "metadata": {},
   "source": [
    "Kemudian, setelah menentukan $x_U$ dan $x_L$ langkah selanjutnya adalah mencari $d$.\n",
    "\n",
    "$d$ ini diperoleh dari:\n",
    "\n",
    "$$d = R \\, (x_U-x_L)$$\n",
    "\n",
    "Setelah itu, barulah kita mencari $x_1$ dan $x_2$,\n",
    "di mana:\n",
    "\\begin{align*}\n",
    "   x_1 &= x_L + d\n",
    "   \\\\\n",
    "   x_2 &= x_U - d\n",
    "\\end{align*}\n",
    "\n",
    "Ketika $x_1$ dan $x_2$ ditemukan, maka diperoleh $f(x_1)$ dan $f(x_2)$.\n",
    "\n",
    "Berdasarkan $f(x_1)$ dan $f(x_2)$, maka akan dua kondisi yang terjadi, yaitu:\n",
    "\n",
    "1. $f(x_1) < f(x_2)$\n",
    "2. $f(x_1) > f(x_2)$"
   ]
  },
  {
   "cell_type": "markdown",
   "metadata": {},
   "source": [
    "Untuk kasus $f(x_1) < f(x_2)$, maka:\n",
    "\n",
    "\\begin{align*}\n",
    "    x_L &\\Leftarrow x_2\n",
    "    \\\\\n",
    "    x_2 &\\Leftarrow x_1\n",
    "    \\\\\n",
    "    d &= R \\, (x_U-x_L)\n",
    "    \\\\\n",
    "    x_1 &= x_L + d\n",
    "\\end{align*}\n",
    "\n",
    "Sedangkan untuk kasus $f(x_1) > f(x_2)$, maka:\n",
    "\n",
    "\\begin{align*}\n",
    "    x_U &\\Leftarrow x_1\n",
    "    \\\\\n",
    "    x_1 &\\Leftarrow x_2\n",
    "    \\\\\n",
    "    d &= R \\, (x_U-x_L)\n",
    "    \\\\\n",
    "    x_2 &= x_U - d\n",
    "\\end{align*}"
   ]
  },
  {
   "cell_type": "markdown",
   "metadata": {},
   "source": [
    "Proses membandingkan $f(x_1)$ dan $f(x_2)$ akan berjalan terus hingga selisih $x_2$ dengan $x_1$ sangat kecil, maksudnya adalah $|x_2 - x_1|$ sekecil mungkin. Untuk itu, maka dipilihlah selisih $|x_2 - x_1| = 10^{-6}$.\n",
    "\n",
    "*Catatan:* Pemilihan selisih ini ditentukan secara bebas dan sesuai kesepakatan saja, yang penting selisihnya sangat kecil."
   ]
  },
  {
   "cell_type": "markdown",
   "metadata": {},
   "source": [
    "Sebagai contoh,\n",
    "\n",
    "Diketahui $\\displaystyle \\, \\,f(x) = x^3$. Tentukan nilai minimum $f(x)$ di dalam interval $[0,4]$."
   ]
  },
  {
   "cell_type": "markdown",
   "metadata": {},
   "source": [
    "Jawaban:\n",
    "\n",
    "Pertama, kita deklarasikan $x_L$, $x_U$, dan $r$ terlebih dahulu."
   ]
  },
  {
   "cell_type": "code",
   "execution_count": 1,
   "metadata": {},
   "outputs": [],
   "source": [
    "xlow = 0\n",
    "xup = 4\n",
    "r = (5**(0.5)-1)/2"
   ]
  },
  {
   "cell_type": "markdown",
   "metadata": {},
   "source": [
    "Untuk memudahkan perhitungan, kita buat $f(x)$ ke dalam fungsi python"
   ]
  },
  {
   "cell_type": "code",
   "execution_count": 2,
   "metadata": {},
   "outputs": [],
   "source": [
    "import numpy as np\n",
    "\n",
    "f = lambda x: x**3"
   ]
  },
  {
   "cell_type": "markdown",
   "metadata": {},
   "source": [
    "Kemudian, kita hitung $d$ berdasarkan rumus di atas"
   ]
  },
  {
   "cell_type": "code",
   "execution_count": 3,
   "metadata": {},
   "outputs": [],
   "source": [
    "d = r * (xup-xlow)"
   ]
  },
  {
   "cell_type": "markdown",
   "metadata": {},
   "source": [
    "Lalu, kita cari $x_1$ dan $x_2$"
   ]
  },
  {
   "cell_type": "code",
   "execution_count": 4,
   "metadata": {},
   "outputs": [],
   "source": [
    "x1 = xlow + d\n",
    "x2 = xup - d"
   ]
  },
  {
   "cell_type": "markdown",
   "metadata": {},
   "source": [
    "Setelah itu, kita cari $f(x_1)$ dan $f(x_2)$"
   ]
  },
  {
   "cell_type": "code",
   "execution_count": 5,
   "metadata": {},
   "outputs": [],
   "source": [
    "f1 = f(x1)\n",
    "f2 = f(x2)"
   ]
  },
  {
   "cell_type": "markdown",
   "metadata": {},
   "source": [
    "Lalu, kita bandingkan `f1` dengan `f2`"
   ]
  },
  {
   "cell_type": "code",
   "execution_count": 6,
   "metadata": {},
   "outputs": [
    {
     "name": "stdout",
     "output_type": "stream",
     "text": [
      "x2 = 0.000001\n",
      "f(x2) = 0.000000\n"
     ]
    }
   ],
   "source": [
    "sel = x2-x1\n",
    "sel = np.fabs(sel)\n",
    "\n",
    "while(sel >= 0.000001):\n",
    "    if f1 < f2:\n",
    "        xlow = x2\n",
    "        x2 = x1\n",
    "        d = r * (xup-xlow)\n",
    "        x1 = xlow + d\n",
    "    elif f1 > f2:\n",
    "        xup = x1\n",
    "        x1 = x2\n",
    "        d = r * (xup-xlow)\n",
    "        x2 = xup - d\n",
    "    sel = x2-x1\n",
    "    sel = np.fabs(sel)\n",
    "print(\"x2 = %f\\nf(x2) = %f\" % (x2, f(x2)))"
   ]
  },
  {
   "cell_type": "markdown",
   "metadata": {},
   "source": [
    "Agar intuisi dari algoritma di atas dapat terbangun, berikut adalah yang terjadi di setiap iterasinya dengan menggunakan contoh di atas ($f(x) = x^3$, $x_L = 0$, $x_U = 4$):"
   ]
  },
  {
   "cell_type": "markdown",
   "metadata": {},
   "source": [
    "Pertama-tama, kita visualisasikan $f(x)$ dan kedua titik awalnya $x_L$ dan $x_U$ terlebih dahulu:"
   ]
  },
  {
   "cell_type": "code",
   "execution_count": 7,
   "metadata": {},
   "outputs": [],
   "source": [
    "import matplotlib.pyplot as plt\n",
    "import numpy as np\n",
    "\n",
    "\n",
    "y = lambda x: x**3                 #f(x) = x**3\n",
    "x = np.arange(0,10)\n",
    "\n",
    "xlow, xup = 0, 4\n",
    "\n",
    "def gambar():\n",
    "    plt.plot(x,y(x))\n",
    "    plt.plot([xlow,xup],[y(xlow),y(xup)],'ro', color='blue')\n",
    "    plt.text(xlow+0.05, y(xlow), '$x_L$')\n",
    "    plt.text(xup+0.05, y(xup), '$x_U$')\n",
    "\n",
    "    plt.axis([-0.5,5,-5,100])"
   ]
  },
  {
   "cell_type": "code",
   "execution_count": 8,
   "metadata": {
    "scrolled": true
   },
   "outputs": [
    {
     "data": {
      "image/png": "[encoded data removed]",
      "text/plain": [
       "<matplotlib.figure.Figure at 0x4d65eb0>"
      ]
     },
     "metadata": {},
     "output_type": "display_data"
    }
   ],
   "source": [
    "gambar()\n",
    "plt.show()"
   ]
  },
  {
   "cell_type": "markdown",
   "metadata": {},
   "source": [
    "**Iterasi Pencarian Titik Minimum**\n",
    "\n",
    "Kita akan menentukan $x_1$ dan $x_2$ terlebih dahulu:"
   ]
  },
  {
   "cell_type": "code",
   "execution_count": 9,
   "metadata": {},
   "outputs": [
    {
     "data": {
      "image/png": "[encoded data removed]",
      "text/plain": [
       "<matplotlib.figure.Figure at 0x8ac26b0>"
      ]
     },
     "metadata": {},
     "output_type": "display_data"
    }
   ],
   "source": [
    "r = (5**(0.5)-1)/2\n",
    "d = r * (xup-xlow)\n",
    "\n",
    "x1 = xlow + d\n",
    "x2 = xup - d\n",
    "\n",
    "plt.plot(x,y(x))\n",
    "plt.plot([xlow,xup],[y(xlow),y(xup)],'ro', color='blue')\n",
    "plt.plot([x1],[y(x1)],'ro', color = 'green')\n",
    "plt.plot([x2],[y(x2)],'ro', color = 'red')\n",
    "\n",
    "plt.text(xlow+0.05, y(xlow), '$x_L$')\n",
    "plt.text(xup+0.05, y(xup), '$x_U$')\n",
    "plt.text(x1+0.05, y(x1), '$x_1$')\n",
    "plt.text(x2+0.05, y(x2), '$x_2$')\n",
    "\n",
    "plt.axis([-0.5,5,-5,100])\n",
    "\n",
    "plt.show()"
   ]
  },
  {
   "cell_type": "markdown",
   "metadata": {},
   "source": [
    "Lalu, kita akan bandingkan $f(x_1)$ dan $f(x_2)$.\n",
    "\n",
    "Pada kasus ini, $f(x_1)>f(x_2)$.\n",
    "\n",
    "Sehingga, yang terjadi adalah:\n",
    "\n",
    "**)Untuk memperjelas proses kerja dari Golden-Section Search, code di bawah dapat dijalankan berulang-ulang*"
   ]
  },
  {
   "cell_type": "code",
   "execution_count": 10,
   "metadata": {},
   "outputs": [
    {
     "data": {
      "image/png": "[encoded data removed]",
      "text/plain": [
       "<matplotlib.figure.Figure at 0xa1fd510>"
      ]
     },
     "metadata": {},
     "output_type": "display_data"
    }
   ],
   "source": [
    "xu = np.array([])\n",
    "xl = np.array([])\n",
    "\n",
    "for i in range(0,10):\n",
    "    #if f1 < f2\n",
    "    if y(x1) < y(x2):\n",
    "        xlow = x2\n",
    "        x2 = x1\n",
    "        d = r * (xup-xlow)\n",
    "        x1 = xlow + d\n",
    "    #elif f1 > f2:\n",
    "    elif y(x1) > y(x2):\n",
    "        xup = x1\n",
    "        x1 = x2\n",
    "        d = r * (xup-xlow)\n",
    "        x2 = xup - d\n",
    "    xu = np.append(xu,[xup])\n",
    "    xl = np.append(xl,[xl])\n",
    "\n",
    "def grafik(xlow,xup,x1,x2):\n",
    "    plt.plot(x,y(x))\n",
    "    plt.plot([xlow,xup],[y(xlow),y(xup)],'ro', color='blue')\n",
    "    plt.plot(xu,y(xu),'ro', color = 'yellow')\n",
    "    plt.plot(xl,y(xl),'ro', color = 'yellow')\n",
    "    plt.plot([x1],[y(x1)],'ro', color = 'green')\n",
    "    plt.plot([x2],[y(x2)],'ro', color = 'red')\n",
    "\n",
    "    plt.text(xlow+0.05, y(xlow), '$x_L$')\n",
    "    plt.text(xup+0.05, y(xup), '$x_U$')\n",
    "    plt.text(x1+0.05, y(x1), '$x_1$')\n",
    "    plt.text(x2+0.05, y(x2), '$x_2$')\n",
    "    \n",
    "    plt.axis([-0.5,5,-5,100])\n",
    "    \n",
    "grafik(xlow,xup,x1,x2)\n",
    "plt.show()"
   ]
  },
  {
   "cell_type": "markdown",
   "metadata": {},
   "source": [
    "Dengan melakukan 10 kali iterasi, dapat terlihat bahwa titik minimum dari $f(x) = x^3$ berada pada $(0,0)$.\n",
    "\n",
    "Kita dapat melihat bahwa semua titik yang ada, bergerak menuju satu titik, dalam hal ini $x=0$."
   ]
  },
  {
   "cell_type": "markdown",
   "metadata": {},
   "source": [
    "Nilai minimum dari $f(x)$ bisa diperoleh dari $f(x_1)$ ataupun $f(x_2)$. Hal ini terjadi karena jarak antara $x_1$ dengan $x_2$ itu dibuat sekecil mungkin. Sehingga, kita dapat mengambil salah satu dari antara dua titik tersebut karena kedua titik tersebut menuju ke satu titik dan jarak mereka sangat dekat."
   ]
  },
  {
   "cell_type": "markdown",
   "metadata": {},
   "source": [
    "Maka, algoritma secara lengkap dari Golden-Section Search dengan contoh $f(x) = x^{3}$ adalah sebagai berikut:"
   ]
  },
  {
   "cell_type": "code",
   "execution_count": 11,
   "metadata": {},
   "outputs": [
    {
     "name": "stdout",
     "output_type": "stream",
     "text": [
      "Titik minimum: 0.000001\n",
      "Nilai minimum: 0.000000\n"
     ]
    }
   ],
   "source": [
    "import numpy as np\n",
    "\n",
    "#definisikan terlebih dahulu f(x) dari masalah yang ada dan ditentukan xlow = 0 dan xup = 4\n",
    "f = lambda x : x**3\n",
    "\n",
    "xlow, xup = 0, 4\n",
    "\n",
    "def Golden(f, xlow, xup):\n",
    "    r = (5**(0.5)-1)/2\n",
    "    d = r * (xup-xlow)\n",
    "    \n",
    "    x1 = xlow + d\n",
    "    x2 = xup - d\n",
    "    \n",
    "    f1 = f(x1)\n",
    "    f2 = f(x2)\n",
    "    \n",
    "    sel = x2-x1\n",
    "    sel = np.fabs(sel)\n",
    "\n",
    "    while(sel >= 0.000001):\n",
    "        if f1 < f2:\n",
    "            xlow = x2\n",
    "            x2 = x1\n",
    "            d = r * (xup-xlow)\n",
    "            x1 = xlow + d\n",
    "        elif f1 > f2:\n",
    "            xup = x1\n",
    "            x1 = x2\n",
    "            d = r * (xup-xlow)\n",
    "            x2 = xup - d\n",
    "        sel = x2-x1\n",
    "        sel = np.fabs(sel)\n",
    "    return x2\n",
    "\n",
    "xmin = Golden(f, xlow, xup)\n",
    "fmin = f(xmin)\n",
    "\n",
    "print(\"Titik minimum: %f\\nNilai minimum: %f\" % (xmin, fmin))"
   ]
  },
  {
   "cell_type": "markdown",
   "metadata": {},
   "source": [
    "## 2. Parabolic Interpolation\n",
    "\n",
    "Metode ini mengambil keuntungan dari karakteristik polinomial berderajat 2 yang unik. Karakteristik tersebut adalah bahwa polinomial berderajat 2 dapat dengan baik mengaproksimasi bentuk dari $f(x)$ yang mendekati titik optimumnya (dalam kasus ini, mencapai titik optimum dari fungsi kuadrat yang dibentuk. Jadi, bisa menuju titik maksimum ataupun minimum lokal).\n",
    "\n",
    "Pada metode ini, titik awal yang ditentukan secara sembarang ada tiga titik.\n",
    "\n",
    "Ketiga titik tersebut kita namakan sebagai $x_0, x_1, x_2$. **)Perlu diperhatikan bahwa ketiga titik tersebut tidak boleh berada dalam satu garis lurus.*\n",
    "\n",
    "Dari ketiga titik tersebut, akan membentuk sebuah fungsi kuadrat.\n",
    "Kita tahu bahwa bentuk umum dari fungsi kuadrat adalah\n",
    "\n",
    "$$ax^2+bx+c$$\n",
    "\n",
    "Alasan mengapa kita harus menggunakan tiga titik awal adalah untuk membentuk fungsi kuadrat (polinomial berderajat 2) dibutuhkan paling sedikit tiga titik.\n",
    "\n",
    "Perlu kita tahu, polinomial berderajat dua (fungsi kuadrat) selalu mempunyai titik puncak. Jadi, maksud dari metode ini adalah kita membuat fungsi kuadrat dari titik-titik yang ada sehingga fungsi kuadrat tersebut membentuk bentuk yang mirip dengan $f(x)$ yang akan dicari. Sehingga, titik yang ditemukan akan selalu menuju ke titik puncak dari fungsi kuadrat tersebut.\n",
    "\n",
    "Jadi, jika $a<0$, maka metode ini akan menghasilkan titik maksimum. <br>\n",
    "Sedangkan untuk $a>0$, maka titik yang ditemukan adalah titik minimum.\n",
    "\n",
    "*Catatan:* alasan titik-titik tidak boleh berada di dalam satu garis lurus karena fungsi parabolanya akan ter-*degenerate* sehingga tidak dapat dicari titik optimumnya."
   ]
  },
  {
   "cell_type": "markdown",
   "metadata": {},
   "source": [
    "Lalu, kita tentukan titik keempat ($x_3$). Titik ini adalah titik puncak fungsi kuadrat perkiraan yang telah kita bentuk (fungsi kuadrat dari titik $x_0, x_1, x_2$)\n",
    "\n",
    "Di mana $x_3$ diperoleh dari:\n",
    "\n",
    "$$ \\displaystyle\n",
    "    x_3 =\\frac{f(x_0) \\cdot (x_1^2-x_2^2) + f(x_1) \\cdot (x_2^2-x_0^2) + f(x_2) \\cdot (x_0^2-x_1^2)}{2 \\cdot f(x_0) \\cdot (x_1-x_2) + 2 \\cdot f(x_1) \\cdot (x_2-x_0) + 2 \\cdot f(x_2) \\cdot (x_0-x_1)}\n",
    ".$$"
   ]
  },
  {
   "cell_type": "markdown",
   "metadata": {},
   "source": [
    "Kemudian, dari 4 titik yang ada kita lakukan pencarian titik optimum dari fungsi yang telah diberikan. Kita menggunakan strategi yang mirip dengan pencarian di dalam metode **Golden-Section Search**."
   ]
  },
  {
   "cell_type": "markdown",
   "metadata": {},
   "source": [
    "Seperti pada contoh sebelumnya, kita akan menemukan nilai minimum dari $f(x) = x^3$ di mana tiga titik awalnya adalah $x_0 = 0$, $x_1 = 1$, dan $x_2 = 4$."
   ]
  },
  {
   "cell_type": "markdown",
   "metadata": {},
   "source": [
    "Kita tentukan terlebih dahulu $x_3$ dengan menggunakan rumus di atas:"
   ]
  },
  {
   "cell_type": "code",
   "execution_count": 12,
   "metadata": {},
   "outputs": [
    {
     "name": "stdout",
     "output_type": "stream",
     "text": [
      "Titik puncak yang diperoleh: 0.400000\n"
     ]
    }
   ],
   "source": [
    "import numpy as np\n",
    "\n",
    "#f(x) = x^3\n",
    "f = lambda x: x**3\n",
    "\n",
    "x0, x1, x2 = 0,1,4\n",
    "\n",
    "def xpuncak(x0,x1,x2):\n",
    "    f0 = f(x0)\n",
    "    f1 = f(x1)\n",
    "    f2 = f(x2)\n",
    "    x3 = f0*(x1**2-x2**2) + f1*(x2**2-x0**2) + f2*(x0**2-x1**2)\n",
    "    return x3/(2*f0*(x1-x2) + 2*f1*(x2-x0) + 2*f2*(x0-x1))\n",
    "    \n",
    "x3 = xpuncak(x0,x1,x2)\n",
    "\n",
    "print(\"Titik puncak yang diperoleh: %f\" % (x3))"
   ]
  },
  {
   "cell_type": "markdown",
   "metadata": {},
   "source": [
    "Lalu, kita akan masuk ke dalam pencarian titik optimum:"
   ]
  },
  {
   "cell_type": "code",
   "execution_count": 13,
   "metadata": {},
   "outputs": [
    {
     "name": "stdout",
     "output_type": "stream",
     "text": [
      "Titik optimum: 0.000000\n",
      "Nilai optimum: 0.000000\n"
     ]
    }
   ],
   "source": [
    "import numpy as np\n",
    "\n",
    "while True:\n",
    "        f0 = f(x0)\n",
    "        f1 = f(x1)\n",
    "        f2 = f(x2)\n",
    "        \n",
    "        x3 = f0*(x1**2-x2**2) + f1*(x2**2-x0**2) + f2*(x0**2-x1**2)\n",
    "        x3 = x3/(2*f0*(x1-x2) + 2*f1*(x2-x0) + 2*f2*(x0-x1))\n",
    "        \n",
    "        sel = x3-x1\n",
    "        sel = np.fabs(sel)\n",
    "        if sel < 0.000001:\n",
    "            break\n",
    "            \n",
    "        f3 = f(x3)\n",
    "        \n",
    "        if f3>f1:\n",
    "            x0 = x1\n",
    "            x1 = x3\n",
    "        elif f3<f1:\n",
    "            x2 = x1\n",
    "            x1 = x3\n",
    "\n",
    "\n",
    "xopt = x3\n",
    "fopt = f(xopt)\n",
    "\n",
    "print(\"Titik optimum: %f\\nNilai optimum: %f\" % (xopt, fopt))"
   ]
  },
  {
   "cell_type": "markdown",
   "metadata": {},
   "source": [
    "Cara kerja dari Parabolic Interpolation, dapat dilihat dari penjelasan berikut:"
   ]
  },
  {
   "cell_type": "markdown",
   "metadata": {},
   "source": [
    "Dari contoh sebelumnya, kita diberikan fungsi $f(x)$ di mana:\n",
    "\n",
    "$$f(x) = x^3$$\n",
    "\n",
    "dan kita tentukan 3 titik awalnya $x_0 = 0$, $x_1 = 1$, dan $x_2 = 4$.\n",
    "\n",
    "*Titik-titik ini dapat ditentukan secara bebas tapi kita harus berhati-hati agar tidak memilih titik-titik yang berada di dalam satu garis lurus karena parabola yang terbentuk akan terdegenarate dan metode ini akan gagal.*"
   ]
  },
  {
   "cell_type": "code",
   "execution_count": 14,
   "metadata": {},
   "outputs": [],
   "source": [
    "import matplotlib.pyplot as plt\n",
    "import numpy as np\n",
    "\n",
    "\n",
    "y = lambda x: x**3                 #f(x) = x**3\n",
    "x = np.arange(0,10)\n",
    "\n",
    "x0, x1, x2 = 0, 1, 4\n",
    "\n",
    "def gambar():\n",
    "    plt.plot(x,y(x))\n",
    "    plt.plot([x0,x1,x2],[y(x0),y(x1),y(x2)], 'ro', color='blue')\n",
    "    plt.text(x0+0.05, y(x0), '$x_0$')\n",
    "    plt.text(x1+0.05, y(x1), '$x_1$')\n",
    "    plt.text(x2+0.05, y(x2), '$x_2$')\n",
    "\n",
    "    plt.axis([-0.5,5,-5,100])\n",
    "    "
   ]
  },
  {
   "cell_type": "code",
   "execution_count": 15,
   "metadata": {
    "scrolled": true
   },
   "outputs": [
    {
     "data": {
      "image/png": "[encoded data removed]",
      "text/plain": [
       "<matplotlib.figure.Figure at 0xa20aa30>"
      ]
     },
     "metadata": {},
     "output_type": "display_data"
    }
   ],
   "source": [
    "gambar()\n",
    "plt.show()"
   ]
  },
  {
   "cell_type": "markdown",
   "metadata": {},
   "source": [
    "Perlu diperhatikan, bentuk grafik yang ada yang berada di $[0,4]$ itu membentuk fungsi kuadrat (parabola) yang titik puncaknya berada di minimum.\n",
    "\n",
    "Setelah menentukan 3 titik yang ada, kita akan mencari titik puncak dari persamaan kuadrat yang dibentuk oleh $x_0, x_1, x_2$ tersebut. Kita namakan titik itu $x_3$.\n",
    "\n",
    "$x_3$ ini bisa dicari dengan rumus di atas, yaitu:\n",
    "\n",
    "$$ \\displaystyle\n",
    "    x_3 =\\frac{f(x_0) \\cdot (x_1^2-x_2^2) + f(x_1) \\cdot (x_2^2-x_0^2) + f(x_2) \\cdot (x_0^2-x_1^2)}{2 \\cdot f(x_0) \\cdot (x_1-x_2) + 2 \\cdot f(x_1) \\cdot (x_2-x_0) + 2 \\cdot f(x_2) \\cdot (x_0-x_1)}.\n",
    "$$\n",
    "\n",
    "Sehingga, akan membentuk parabola yang melewati keempat titik itu."
   ]
  },
  {
   "cell_type": "code",
   "execution_count": 16,
   "metadata": {
    "scrolled": false
   },
   "outputs": [
    {
     "data": {
      "image/png": "[encoded data removed]",
      "text/plain": [
       "<matplotlib.figure.Figure at 0xa230390>"
      ]
     },
     "metadata": {},
     "output_type": "display_data"
    }
   ],
   "source": [
    "def xpuncak(x0,x1,x2):\n",
    "    f0 = y(x0)\n",
    "    f1 = y(x1)\n",
    "    f2 = y(x2)\n",
    "    x3 = f0*(x1**2-x2**2) + f1*(x2**2-x0**2) + f2*(x0**2-x1**2)\n",
    "    return x3/(2*f0*(x1-x2) + 2*f1*(x2-x0) + 2*f2*(x0-x1))\n",
    "\n",
    "def interpolation(x0,x1,x2,y0,y1,y2):\n",
    "    denom = (x0-x1) * (x0-x2) * (x1-x2)\n",
    "    if denom == 0:\n",
    "        A, B, C = 0,0,0\n",
    "        return A,B,C\n",
    "    A     = (x2 * (y1-y0) + x1 * (y0-y2) + x0 * (y2-y1)) / denom\n",
    "    B     = (x2**2 * (y0-y1) + x1**2 * (y2-y0) + x0**2 * (y1-y2)) / denom\n",
    "    C     = (x1 * x2 * (x1-x2) * y0+x2 * x0 * (x2-x0) * y1+x0 * x1 * (x0-x1) * y2) / denom\n",
    "\n",
    "    return A,B,C\n",
    "\n",
    "    \n",
    "def grafik(x0,x1,x2,x3):\n",
    "    y0,y1,y2,y3 = y(x0), y(x1), y(x2), y(x3)\n",
    "    \n",
    "    a,b,c = interpolation(x0,x1,x2,y0,y1,y2)\n",
    "    y_interpolation = lambda x: a*(x**2) + b*(x) + c\n",
    "    \n",
    "    plt.plot(x,y(x))\n",
    "    plt.plot(x,y_interpolation(x), color='red')\n",
    "    \n",
    "    plt.plot([x0,x1,x2,x3],[y(x0),y(x1),y(x2),y(x3)], 'ro', color='blue')\n",
    "    \n",
    "    plt.plot([x0],[y(x0)],'ro', color = 'blue')\n",
    "    plt.plot([x1],[y(x1)],'ro', color = 'green')\n",
    "    plt.plot([x2],[y(x2)],'ro', color = 'red')\n",
    "    plt.plot([x3],[y(x3)],'ro', color = 'yellow')\n",
    "\n",
    "    plt.text(x0+0.05, y(x0), '$x_0$')\n",
    "    plt.text(x1+0.05, y(x1), '$x_1$')\n",
    "    plt.text(x2+0.05, y(x2), '$x_2$')\n",
    "    plt.text(x3+0.05, y(x3), '$x_3$')\n",
    "    \n",
    "    plt.axis([-0.5,5,-5,100])\n",
    "    \n",
    "x3 = xpuncak(x0,x1,x2)\n",
    "y0,y1,y2,y3 = y(x0), y(x1), y(x2), y(x3)\n",
    "grafik(x0,x1,x2,x3)\n",
    "plt.show()"
   ]
  },
  {
   "cell_type": "markdown",
   "metadata": {},
   "source": [
    "Kemudian, karena tidak ter-*degenerate* parabolanya, kita bisa melakukan perbandingan dengan strategi yang mirip dengan **Golden-Section Search.**\n",
    "\n",
    "*Untuk iterasi pertama, yang terjadi adalah $f(x_1) > f(x_3)$*"
   ]
  },
  {
   "cell_type": "code",
   "execution_count": 17,
   "metadata": {},
   "outputs": [
    {
     "data": {
      "image/png": "[encoded data removed]",
      "text/plain": [
       "<matplotlib.figure.Figure at 0xa2bc530>"
      ]
     },
     "metadata": {},
     "output_type": "display_data"
    }
   ],
   "source": [
    "if y1 < y3:\n",
    "    x0 = x1\n",
    "    x1 = x3\n",
    "elif y1 > y3:\n",
    "    x2 = x1\n",
    "    x1 = x3\n",
    "\n",
    "x3 = xpuncak(x0,x1,x2)\n",
    "y0,y1,y2,y3 = y(x0), y(x1), y(x2), y(x3)\n",
    "grafik(x0,x1,x2,x3)\n",
    "plt.show()"
   ]
  },
  {
   "cell_type": "markdown",
   "metadata": {},
   "source": [
    "Dari perulangan yang ada, dapat kita lihat bahwa $x_3$ bergerak menuju titik optimum di dalam interval dari grafik yang diberikan. Dalam kasus ini, kita memperoleh $x_{Optimum} = 3$."
   ]
  },
  {
   "cell_type": "markdown",
   "metadata": {},
   "source": [
    "Untuk menyimpulkan, berikut algoritma Parabolic Interpolation secara lengkap (dengan contoh $f(x) = x^3$ dan titik awalnya adalah $x_0 = 0$, $x_1 = 1$, dan $x_2 = 4$ :"
   ]
  },
  {
   "cell_type": "code",
   "execution_count": 18,
   "metadata": {},
   "outputs": [
    {
     "name": "stdout",
     "output_type": "stream",
     "text": [
      "Titik optimum: 0.000000\n",
      "Nilai optimum: 0.000000\n"
     ]
    }
   ],
   "source": [
    "import numpy as np\n",
    "\n",
    "f = lambda x: x**3                          #f(x) = x**3\n",
    "\n",
    "def Parabolic(f, x0, x1, x2):\n",
    "    while True:\n",
    "        f0 = f(x0)\n",
    "        f1 = f(x1)\n",
    "        f2 = f(x2)\n",
    "        \n",
    "        x3 = f0*(x1**2-x2**2) + f1*(x2**2-x0**2) + f2*(x0**2-x1**2)\n",
    "        x3 = x3/(2*f0*(x1-x2) + 2*f1*(x2-x0) + 2*f2*(x0-x1))\n",
    "        \n",
    "        sel = x3-x1\n",
    "        sel = np.fabs(sel)\n",
    "        if sel < 0.000001:\n",
    "            break\n",
    "            \n",
    "        f3 = f(x3)\n",
    "        \n",
    "        if f3>f1:\n",
    "            x0 = x1\n",
    "            x1 = x3\n",
    "        elif f3<f1:\n",
    "            x2 = x1\n",
    "            x1 = x3\n",
    "    return x3\n",
    "\n",
    "x0, x1, x2 = 0,1,4\n",
    "\n",
    "x_sort = [x0,x1,x2]\n",
    "x_sort.sort()\n",
    "        \n",
    "xop = Parabolic(f, x_sort[0],x_sort[1],x_sort[2])\n",
    "fop = f(xop)\n",
    "\n",
    "print(\"Titik optimum: %f\\nNilai optimum: %f\" % (xop, fop))"
   ]
  },
  {
   "cell_type": "markdown",
   "metadata": {},
   "source": [
    "## 3. Newton's Method\n",
    "\n",
    "Metode ini mirip dengan metode Newton-Raphson untuk mencari akar. Namun, di dalam metode ini, ada sedikit perubahan.\n",
    "\n",
    "Metode yang digunakan adalah:\n",
    "\n",
    "\n",
    "$$x_{i+1} = x_i - \\frac{f'(x_i)}{f''(x_i)}.$$\n",
    "\n",
    "Seperti pada contoh sebelumnya, diketahui $f(x) = x^3$. Misalkan ditentukan $x_0 = 4$\n",
    "\n",
    "Maka, langkah pertama yang harus dilakukan adalah kita mencari terlebih dahulu $f'(x)$ dan $f''(x)$\n",
    "\n",
    "$f'(x) = 3\\,x^2$ dan $f''(x) = 6\\,x.$"
   ]
  },
  {
   "cell_type": "markdown",
   "metadata": {},
   "source": [
    "Lalu, kita buat fungsi $f(x), f'(x), f''(x)$ . Dapat menggunakan metode Finite Difference untuk $f'(x)$ dan $f''(x)$, yaitu:"
   ]
  },
  {
   "cell_type": "code",
   "execution_count": 19,
   "metadata": {},
   "outputs": [],
   "source": [
    "import numpy as np\n",
    "\n",
    "y = lambda x: x**3\n",
    "\n",
    "def df1(f, x, h):\n",
    "    return (f(x+h)-f(x-h))/(2*h)\n",
    "\n",
    "def df2(f, x, h):\n",
    "    return (f(x+h)-2*f(x)+f(x-h))/(h**2)"
   ]
  },
  {
   "cell_type": "markdown",
   "metadata": {},
   "source": [
    "Agar lebih jelas mengenai fungsi yang ada, perhatikan gambar grafik dibawah ini:\n",
    "\n",
    "*misal h=0.05*"
   ]
  },
  {
   "cell_type": "code",
   "execution_count": 20,
   "metadata": {},
   "outputs": [
    {
     "data": {
      "image/png": "[encoded data removed]",
      "text/plain": [
       "<matplotlib.figure.Figure at 0xa23e210>"
      ]
     },
     "metadata": {},
     "output_type": "display_data"
    }
   ],
   "source": [
    "import matplotlib.pyplot as plt\n",
    "h = 0.05\n",
    "x = np.arange(0,10)\n",
    "plt.plot(x,y(x))\n",
    "plt.show()"
   ]
  },
  {
   "cell_type": "markdown",
   "metadata": {},
   "source": [
    "Maka, kita dapat mem-visualisasikan cara kerja Metode Newton ini.\n",
    "\n",
    "Pertama, kita pilih $f(x) = x^3$, $h = 0.05$, dan kita akan memulai pencarian dari $x=4$, maka kondisi awalnya adalah:"
   ]
  },
  {
   "cell_type": "code",
   "execution_count": 21,
   "metadata": {},
   "outputs": [
    {
     "data": {
      "image/png": "[encoded data removed]",
      "text/plain": [
       "<matplotlib.figure.Figure at 0xa259bf0>"
      ]
     },
     "metadata": {},
     "output_type": "display_data"
    }
   ],
   "source": [
    "x0 = 4\n",
    "\n",
    "x = np.arange(0,10)\n",
    "plt.plot(x,y(x))\n",
    "plt.plot([x0], [y(x0)], 'ro', color='red')\n",
    "plt.text(x0+0.05, y(x0), '$x_0$')\n",
    "plt.show()"
   ]
  },
  {
   "cell_type": "markdown",
   "metadata": {},
   "source": [
    "Kemudian, yang akan terjadi adalah:\n",
    "\n",
    "(*code di bawah dapat dijalankan beberapa kali untuk memperhatikan perubahan $x$-nya*)\n",
    "\n",
    "$x_{bef}$ menunjukkan titik sebelum di-*update* menggunakan metode Newton.\n",
    "\n",
    "$x_{aft}$ menunjukkan titik setelah di-*update* menggunakan metode Newton."
   ]
  },
  {
   "cell_type": "code",
   "execution_count": 22,
   "metadata": {},
   "outputs": [
    {
     "data": {
      "image/png": "[encoded data removed]",
      "text/plain": [
       "<matplotlib.figure.Figure at 0xa259f30>"
      ]
     },
     "metadata": {},
     "output_type": "display_data"
    }
   ],
   "source": [
    "xb = np.array([])\n",
    "xa = np.array([])\n",
    "\n",
    "for i in range(10):\n",
    "    x_bef = x0\n",
    "    x_aft = x0 - (df1(y,x0,h)/df2(y,x0,h))\n",
    "    xb = np.append(xb,x_bef)\n",
    "    xa = np.append(xa,x_aft)\n",
    "    x0 = x_aft\n",
    "\n",
    "plt.plot(xb, y(xb), 'ro', color='red')\n",
    "plt.plot(xa, y(xa), 'ro', color='green')\n",
    "plt.plot(x0, y(x0), 'ro', color='blue')\n",
    "plt.text(x0+0.05, y(x0), '$x_0$')\n",
    "#plt.text(xb+0.05, y(xb), '$x_bef$')\n",
    "#plt.text(xa+0.05, y(xa), '$x_aft$')\n",
    "\n",
    "x = np.arange(0,10)\n",
    "plt.plot(x,y(x))\n",
    "plt.show()"
   ]
  },
  {
   "cell_type": "markdown",
   "metadata": {},
   "source": [
    "Maka, dapat dilihat bahwa titik yang ada bergerak menuju titik optimumnya, dalam hal ini $x=0$"
   ]
  },
  {
   "cell_type": "markdown",
   "metadata": {},
   "source": [
    "Kemudian, kita langsung masuk ke dalam metode Newton dengan iterasi sebanyak mungkin ($n$ kali).\n",
    "\n",
    "Iterasi yang ada dapat berhenti jika sudah dilakukan sebanyak $n$ kali ataupun jika jarak titik yang baru dengan yang sekarang sudah sangat kecil (minimal $1 \\cdot 10^{-6}$)."
   ]
  },
  {
   "cell_type": "code",
   "execution_count": 23,
   "metadata": {},
   "outputs": [],
   "source": [
    "def newton(x, f, n):\n",
    "    i = 0\n",
    "    h = 0.05\n",
    "    while True:\n",
    "        if df2(f,x,h) == 0:\n",
    "            x_next = x\n",
    "            break            \n",
    "        x_next = x - (df1(f,x,h)/df2(f,x,h))\n",
    "        if i >= n or np.fabs(x-x_next) < 0.000001:\n",
    "            break\n",
    "        x = x_next\n",
    "        i = i + 1\n",
    "    return x_next"
   ]
  },
  {
   "cell_type": "markdown",
   "metadata": {},
   "source": [
    "Dalam kasus ini, dipilih n = 25. Sehingga:"
   ]
  },
  {
   "cell_type": "code",
   "execution_count": 24,
   "metadata": {},
   "outputs": [
    {
     "name": "stdout",
     "output_type": "stream",
     "text": [
      "Titik optimum: -0.021616\n",
      "Nilai optimum: -0.000010\n"
     ]
    }
   ],
   "source": [
    "x = 4\n",
    "n = 25\n",
    "\n",
    "xop = newton(x,y,10)\n",
    "\n",
    "print(\"Titik optimum: %f\\nNilai optimum: %f\" % (xop, y(xop)))"
   ]
  },
  {
   "cell_type": "markdown",
   "metadata": {},
   "source": [
    "Dibuat oleh:\n",
    "- Budi Kosasih Halim - 1901486536\n",
    "- William - 1901460373"
   ]
  }
 ],
 "metadata": {
  "kernelspec": {
   "display_name": "Python 3",
   "language": "python",
   "name": "python3"
  },
  "language_info": {
   "codemirror_mode": {
    "name": "ipython",
    "version": 3
   },
   "file_extension": ".py",
   "mimetype": "text/x-python",
   "name": "python",
   "nbconvert_exporter": "python",
   "pygments_lexer": "ipython3",
   "version": "3.6.4"
  }
 },
 "nbformat": 4,
 "nbformat_minor": 2
}
